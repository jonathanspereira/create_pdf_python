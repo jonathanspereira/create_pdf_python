{
 "cells": [
  {
   "cell_type": "code",
   "execution_count": 2,
   "id": "41473469",
   "metadata": {},
   "outputs": [
    {
     "name": "stdout",
     "output_type": "stream",
     "text": [
      "Requirement already satisfied: fpdf in c:\\users\\jonat\\anaconda3\\lib\\site-packages (1.7.2)\n",
      "Note: you may need to restart the kernel to use updated packages.\n"
     ]
    }
   ],
   "source": [
    "%pip install fpdf"
   ]
  },
  {
   "cell_type": "code",
   "execution_count": 3,
   "id": "2331968f",
   "metadata": {},
   "outputs": [],
   "source": [
    "from fpdf import FPDF"
   ]
  },
  {
   "cell_type": "code",
   "execution_count": 4,
   "id": "86918dcf",
   "metadata": {},
   "outputs": [
    {
     "name": "stdout",
     "output_type": "stream",
     "text": [
      "valor_total_estimado\n",
      "Orçamento gerado com sucesso!\n"
     ]
    }
   ],
   "source": [
    "projeto = input (\"Degite a descrição do projeto: \")\n",
    "horas_estimadas = input (\"Digite o total de horas estimadas: \")\n",
    "valor_hora = input (\"Digite o valor da hora trabalhada: \")\n",
    "prazo_estimado = input (\"Digite o prazo estimado (dias):\")\n",
    "\n",
    "valor_hora_ = int(valor_hora)\n",
    "valor_hora_convertido = f'{valor_hora_:,.2f}'\n",
    "\n",
    "valor_total_estimado = int(horas_estimadas) * int(valor_hora)\n",
    "print (\"valor_total_estimado\")\n",
    "valor_total_convertido = f'{valor_total_estimado:,.2f}'\n",
    "\n",
    "pdf = FPDF()\n",
    "pdf.add_page()\n",
    "pdf.set_font(\"Arial\")\n",
    "\n",
    "pdf.image(\"template.png\", x=0, y=0)\n",
    "\n",
    "pdf.text(115, 145, projeto)\n",
    "pdf.text(115, 160, horas_estimadas)\n",
    "pdf.text(115, 175, str(valor_hora_convertido))\n",
    "pdf.text(115, 190, prazo_estimado)\n",
    "pdf.text(115, 205, str(valor_total_convertido))\n",
    "\n",
    "nome_do_arquivo = projeto + \".pdf\"\n",
    "\n",
    "pdf.output(nome_do_arquivo)\n",
    "print(\"Orçamento gerado com sucesso!\")"
   ]
  },
  {
   "cell_type": "code",
   "execution_count": null,
   "id": "d72b8cc2",
   "metadata": {},
   "outputs": [],
   "source": []
  },
  {
   "cell_type": "code",
   "execution_count": null,
   "id": "ef14d711",
   "metadata": {},
   "outputs": [],
   "source": []
  }
 ],
 "metadata": {
  "kernelspec": {
   "display_name": "Python 3 (ipykernel)",
   "language": "python",
   "name": "python3"
  },
  "language_info": {
   "codemirror_mode": {
    "name": "ipython",
    "version": 3
   },
   "file_extension": ".py",
   "mimetype": "text/x-python",
   "name": "python",
   "nbconvert_exporter": "python",
   "pygments_lexer": "ipython3",
   "version": "3.10.9"
  }
 },
 "nbformat": 4,
 "nbformat_minor": 5
}
